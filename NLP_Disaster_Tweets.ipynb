{
 "cells": [
  {
   "cell_type": "markdown",
   "id": "add32008",
   "metadata": {},
   "source": [
    "# NLP Disaster Tweets"
   ]
  }
 ],
 "metadata": {
  "language_info": {
   "name": "python"
  }
 },
 "nbformat": 4,
 "nbformat_minor": 5
}
