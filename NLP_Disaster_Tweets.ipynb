{
 "cells": [
  {
   "cell_type": "markdown",
   "id": "3997e3bd",
   "metadata": {
    "papermill": {
     "duration": 0.005269,
     "end_time": "2025-07-26T20:40:21.722369",
     "exception": false,
     "start_time": "2025-07-26T20:40:21.717100",
     "status": "completed"
    },
    "tags": []
   },
   "source": [
    "# NLP (Natural Language Processing) Disaster Tweets"
   ]
  },
  {
   "cell_type": "markdown",
   "id": "b1b5157b",
   "metadata": {
    "papermill": {
     "duration": 0.004174,
     "end_time": "2025-07-26T20:40:21.731096",
     "exception": false,
     "start_time": "2025-07-26T20:40:21.726922",
     "status": "completed"
    },
    "tags": []
   },
   "source": [
    "This Kaggle competition is about classifying texts. It is an excellent introduction to Natural Language Processing (NLP). \n",
    "\n",
    "Original Competition and Data source: https://www.kaggle.com/c/nlp-getting-started/overview\n",
    "\n",
    "Github: https://github.com/GHeart01/NLP-Disaster-Tweets\n",
    "\n",
    "A screenshot of your position on the Kaggle competition leaderboard for your top-performing model."
   ]
  },
  {
   "cell_type": "markdown",
   "id": "66e8f1f6",
   "metadata": {
    "papermill": {
     "duration": 0.004024,
     "end_time": "2025-07-26T20:40:21.739463",
     "exception": false,
     "start_time": "2025-07-26T20:40:21.735439",
     "status": "completed"
    },
    "tags": []
   },
   "source": [
    "### Table of Contents\n",
    "- [Description](#Description)\n",
    "- [EDA](#Exploratory-Data-Analysis-Procedure)\n",
    "- [Model Architecture](#Model-Architecture)\n",
    "- [Results and Analysis](#Results-and-Analysis)\n",
    "- [Hypertuning](@Hypertuning)\n",
    "- [Conclusion](#Conclusion)\n",
    "- [Citation](#Citation)"
   ]
  },
  {
   "cell_type": "markdown",
   "id": "1cb761a6",
   "metadata": {
    "papermill": {
     "duration": 0.004043,
     "end_time": "2025-07-26T20:40:21.747740",
     "exception": false,
     "start_time": "2025-07-26T20:40:21.743697",
     "status": "completed"
    },
    "tags": []
   },
   "source": [
    "### Description\n",
    "\n"
   ]
  },
  {
   "cell_type": "markdown",
   "id": "1d46e2e2",
   "metadata": {
    "papermill": {
     "duration": 0.004087,
     "end_time": "2025-07-26T20:40:21.756034",
     "exception": false,
     "start_time": "2025-07-26T20:40:21.751947",
     "status": "completed"
    },
    "tags": []
   },
   "source": [
    "This Kaggle Competition focuses on Natural Language Processing (NLP) using Disaster Tweets. The challange here is predicting which tweets are about real disasters and which are not. Here we have a binary classification where 1 is real and 0 is not real.The goal in this competition is to automatically distinguish between tweets that describe actual disasters, and tweets that use words like \"ABLAZE\" in a metaphorical or humorous sense. \n",
    "\n",
    "I will analyze the data using NLP and produce an output csv file to compare against the correct values to determine the strength of my NLP.\n"
   ]
  },
  {
   "cell_type": "markdown",
   "id": "7b8fdc33",
   "metadata": {
    "papermill": {
     "duration": 0.005165,
     "end_time": "2025-07-26T20:40:21.765428",
     "exception": false,
     "start_time": "2025-07-26T20:40:21.760263",
     "status": "completed"
    },
    "tags": []
   },
   "source": [
    "### Exploratory Data Analysis Procedure"
   ]
  },
  {
   "cell_type": "markdown",
   "id": "fcc8ad52",
   "metadata": {
    "papermill": {
     "duration": 0.004174,
     "end_time": "2025-07-26T20:40:21.774509",
     "exception": false,
     "start_time": "2025-07-26T20:40:21.770335",
     "status": "completed"
    },
    "tags": []
   },
   "source": [
    "From the Kaggle Description I created this table\n",
    "\n",
    "| Column    | Description                                      | Data Type     | Missing Values | Notes                                                             |\n",
    "|-----------|--------------------------------------------------|---------------|----------------|-------------------------------------------------------------------|\n",
    "| `id`      | Unique identifier for each tweet                 | Integer       | None           | Primary key; not useful for modeling directly                    |\n",
    "| `text`    | The content of the tweet                         | String (Text) | None           | Main feature for NLP tasks; requires preprocessing (e.g. clean, tokenize) |\n",
    "| `location`| Location tweet was sent from                     | String        | Many missing   | Optional feature; can be engineered (e.g. country, city)         |\n",
    "| `keyword` | Disaster-related keyword in tweet                | String        | Many missing   | Categorical; useful for topic-related features                   |\n",
    "| `target`  | 1 if tweet is about a real disaster, else 0      | Integer (0/1) | Not in test set| Binary classification target variable (only in `train.csv`)      |"
   ]
  },
  {
   "cell_type": "code",
   "execution_count": 1,
   "id": "e425882a",
   "metadata": {
    "execution": {
     "iopub.execute_input": "2025-07-26T20:40:21.784401Z",
     "iopub.status.busy": "2025-07-26T20:40:21.783878Z",
     "iopub.status.idle": "2025-07-26T20:40:23.162803Z",
     "shell.execute_reply": "2025-07-26T20:40:23.162228Z"
    },
    "papermill": {
     "duration": 1.385379,
     "end_time": "2025-07-26T20:40:23.164196",
     "exception": false,
     "start_time": "2025-07-26T20:40:21.778817",
     "status": "completed"
    },
    "tags": []
   },
   "outputs": [],
   "source": [
    "import numpy as np # linear algebra\n",
    "import pandas as pd # data processing, CSV file I/O (e.g. pd.read_csv)\n",
    "import os\n",
    "os.environ['KERAS_BACKEND'] = 'tensorflow'\n"
   ]
  },
  {
   "cell_type": "code",
   "execution_count": 2,
   "id": "24862286",
   "metadata": {
    "execution": {
     "iopub.execute_input": "2025-07-26T20:40:23.174559Z",
     "iopub.status.busy": "2025-07-26T20:40:23.174246Z",
     "iopub.status.idle": "2025-07-26T20:40:39.063142Z",
     "shell.execute_reply": "2025-07-26T20:40:39.062322Z"
    },
    "papermill": {
     "duration": 15.895675,
     "end_time": "2025-07-26T20:40:39.064607",
     "exception": false,
     "start_time": "2025-07-26T20:40:23.168932",
     "status": "completed"
    },
    "tags": []
   },
   "outputs": [
    {
     "name": "stderr",
     "output_type": "stream",
     "text": [
      "2025-07-26 20:40:24.657392: E external/local_xla/xla/stream_executor/cuda/cuda_fft.cc:477] Unable to register cuFFT factory: Attempting to register factory for plugin cuFFT when one has already been registered\n",
      "WARNING: All log messages before absl::InitializeLog() is called are written to STDERR\n",
      "E0000 00:00:1753562424.843825      19 cuda_dnn.cc:8310] Unable to register cuDNN factory: Attempting to register factory for plugin cuDNN when one has already been registered\n",
      "E0000 00:00:1753562424.903161      19 cuda_blas.cc:1418] Unable to register cuBLAS factory: Attempting to register factory for plugin cuBLAS when one has already been registered\n"
     ]
    },
    {
     "name": "stdout",
     "output_type": "stream",
     "text": [
      "Using TensorFlow backend\n"
     ]
    }
   ],
   "source": [
    "import tensorflow as tf\n",
    "import keras_core as keras\n",
    "import keras_nlp\n",
    "from sklearn.metrics import ConfusionMatrixDisplay, confusion_matrix\n",
    "import seaborn as sns\n",
    "import matplotlib.pyplot as plt\n",
    "# check if import wored\n",
    "# print(\"TensorFlow version:\", tf.__version__)\n",
    "# print(\"KerasNLP version:\", keras_nlp.__version__)"
   ]
  },
  {
   "cell_type": "code",
   "execution_count": 3,
   "id": "b18dcf5f",
   "metadata": {
    "execution": {
     "iopub.execute_input": "2025-07-26T20:40:39.075110Z",
     "iopub.status.busy": "2025-07-26T20:40:39.074676Z",
     "iopub.status.idle": "2025-07-26T20:40:39.159994Z",
     "shell.execute_reply": "2025-07-26T20:40:39.159411Z"
    },
    "papermill": {
     "duration": 0.09178,
     "end_time": "2025-07-26T20:40:39.161320",
     "exception": false,
     "start_time": "2025-07-26T20:40:39.069540",
     "status": "completed"
    },
    "tags": []
   },
   "outputs": [],
   "source": [
    "#import the data\n",
    "train_data = pd.read_csv(\"/kaggle/input/nlp-getting-started/train.csv\")\n",
    "test_data = pd.read_csv(\"/kaggle/input/nlp-getting-started/test.csv\")"
   ]
  },
  {
   "cell_type": "markdown",
   "id": "cbcbd61e",
   "metadata": {
    "papermill": {
     "duration": 0.004327,
     "end_time": "2025-07-26T20:40:39.170462",
     "exception": false,
     "start_time": "2025-07-26T20:40:39.166135",
     "status": "completed"
    },
    "tags": []
   },
   "source": [
    "Brief description of the problem and data (5 pts)\n",
    "\n",
    "Briefly describe the challenge problem and NLP. Describe the size, dimension, structure, etc., of the data. \n",
    "\n",
    "Exploratory Data Analysis (EDA) — Inspect, Visualize and Clean the Data (15 pts)\n",
    "\n",
    "Show a few visualizations like histograms. Describe any data cleaning procedures. Based on your EDA, what is your plan of analysis? \n",
    "\n",
    "Model Architecture (25 pts)\n",
    "\n",
    "Describe your model architecture and reasoning for why you believe that specific architecture would be suitable for this problem. \n",
    "\n",
    "Since we did not learn NLP-specific techniques such as word embeddings in the lectures, we recommend looking at Kaggle tutorials, discussion boards, and code examples posted for this challenge.  You can use any resources needed, but make sure you “demonstrate” you understood by including explanations in your own words. Also importantly, please have a reference list at the end of the report.  \n",
    "\n",
    "There are many methods to process texts to matrix form (word embedding), including TF-IDF, GloVe, Word2Vec, etc. Pick a strategy and process the raw texts to word embedding. Briefly explain the method(s) and how they work in your own words.\n",
    "\n",
    "Build and train your sequential neural network model (You may use any RNN family neural network, including advanced architectures LSTM, GRU, bidirectional RNN, etc.). \n",
    "\n",
    "Results and Analysis (35 pts)\n",
    "\n",
    "Run hyperparameter tuning, try different architectures for comparison, apply techniques to improve training or performance, and discuss what helped.\n",
    "\n",
    "Includes results with tables and figures. There is an analysis of why or why not something worked well, troubleshooting, and a hyperparameter optimization procedure summary.\n",
    "\n",
    "\n",
    "Conclusion (15 pts)\n",
    "\n",
    "Discuss and interpret results as well as learnings and takeaways. What did and did not help improve the performance of your models? What improvements could you try in the future?\n",
    "\n"
   ]
  },
  {
   "cell_type": "code",
   "execution_count": 4,
   "id": "a73a9bc8",
   "metadata": {
    "execution": {
     "iopub.execute_input": "2025-07-26T20:40:39.180234Z",
     "iopub.status.busy": "2025-07-26T20:40:39.179649Z",
     "iopub.status.idle": "2025-07-26T20:40:39.195851Z",
     "shell.execute_reply": "2025-07-26T20:40:39.194846Z"
    },
    "papermill": {
     "duration": 0.022213,
     "end_time": "2025-07-26T20:40:39.196961",
     "exception": false,
     "start_time": "2025-07-26T20:40:39.174748",
     "status": "completed"
    },
    "tags": []
   },
   "outputs": [
    {
     "name": "stdout",
     "output_type": "stream",
     "text": [
      "\n",
      " Train Head\n",
      " id keyword location                                                                                                                                  text  target\n",
      "  1     NaN      NaN                                                                 Our Deeds are the Reason of this #earthquake May ALLAH Forgive us all       1\n",
      "  4     NaN      NaN                                                                                                Forest fire near La Ronge Sask. Canada       1\n",
      "  5     NaN      NaN All residents asked to 'shelter in place' are being notified by officers. No other evacuation or shelter in place orders are expected       1\n",
      "  6     NaN      NaN                                                                     13,000 people receive #wildfires evacuation orders in California        1\n",
      "  7     NaN      NaN                                              Just got sent this photo from Ruby #Alaska as smoke from #wildfires pours into a school        1\n",
      "\n",
      " Train Tail\n",
      "   id keyword location                                                                                                                                      text  target\n",
      "10869     NaN      NaN                                                       Two giant cranes holding a bridge collapse into nearby homes http://t.co/STfMbbZFB5       1\n",
      "10870     NaN      NaN             @aria_ahrary @TheTawniest The out of control wild fires in California even in the Northern part of the state. Very troubling.       1\n",
      "10871     NaN      NaN                                                                         M1.94 [01:04 UTC]?5km S of Volcano Hawaii. http://t.co/zDtoyd8EbJ       1\n",
      "10872     NaN      NaN Police investigating after an e-bike collided with a car in Little Portugal. E-bike rider suffered serious non-life threatening injuries.       1\n",
      "10873     NaN      NaN                                            The Latest: More Homes Razed by Northern California Wildfire - ABC News http://t.co/YmY4rSkQ3d       1\n",
      "\n",
      " Test Head\n",
      " id keyword location                                                                                             text\n",
      "  0     NaN      NaN                                                               Just happened a terrible car crash\n",
      "  2     NaN      NaN                                 Heard about #earthquake is different cities, stay safe everyone.\n",
      "  3     NaN      NaN there is a forest fire at spot pond, geese are fleeing across the street, I cannot save them all\n",
      "  9     NaN      NaN                                                         Apocalypse lighting. #Spokane #wildfires\n",
      " 11     NaN      NaN                                                    Typhoon Soudelor kills 28 in China and Taiwan\n",
      "\n",
      " Test Tail\n",
      "   id keyword location                                                                                                                                        text\n",
      "10861     NaN      NaN                                                                                     EARTHQUAKE SAFETY LOS ANGELES ÛÒ SAFETY FASTENERS XrWn\n",
      "10865     NaN      NaN Storm in RI worse than last hurricane. My city&amp;3others hardest hit. My yard looks like it was bombed. Around 20000K still without power\n",
      "10868     NaN      NaN                                                                                     Green Line derailment in Chicago http://t.co/UtbXLcBIuY\n",
      "10874     NaN      NaN                                                                           MEG issues Hazardous Weather Outlook (HWO) http://t.co/3X6RBQJHn3\n",
      "10875     NaN      NaN                                                                        #CityofCalgary has activated its Municipal Emergency Plan. #yycstorm\n",
      "\n",
      " Train size\n",
      "38065\n",
      "\n",
      " Test size\n",
      "13052\n",
      "\n",
      "Training Set Shape = (7613, 5)\n",
      "Training Set Shape = (3263, 4)\n"
     ]
    }
   ],
   "source": [
    "#quick test to confirm import data worked, also get a look at the data\n",
    "print(\"\\n Train Head\")\n",
    "print(train_data.head().to_string(index=False)) # ensure entire row on one terminal line\n",
    "\n",
    "print(\"\\n Train Tail\")\n",
    "print(train_data.tail().to_string(index=False))\n",
    "\n",
    "print(\"\\n Test Head\")\n",
    "print(test_data.head().to_string(index=False))\n",
    "\n",
    "print(\"\\n Test Tail\")\n",
    "print(test_data.tail().to_string(index=False))\n",
    "\n",
    "print(\"\\n Train size\")\n",
    "print(train_data.size)\n",
    "\n",
    "print(\"\\n Test size\")\n",
    "print(test_data.size)\n",
    "\n",
    "print()\n",
    "print('Training Set Shape = {}'.format(train_data.shape))\n",
    "print('Training Set Shape = {}'.format(test_data.shape))\n",
    "\n"
   ]
  },
  {
   "cell_type": "code",
   "execution_count": 5,
   "id": "d3f6c316",
   "metadata": {
    "execution": {
     "iopub.execute_input": "2025-07-26T20:40:39.207090Z",
     "iopub.status.busy": "2025-07-26T20:40:39.206831Z",
     "iopub.status.idle": "2025-07-26T20:40:39.232273Z",
     "shell.execute_reply": "2025-07-26T20:40:39.231334Z"
    },
    "papermill": {
     "duration": 0.03179,
     "end_time": "2025-07-26T20:40:39.233419",
     "exception": false,
     "start_time": "2025-07-26T20:40:39.201629",
     "status": "completed"
    },
    "tags": []
   },
   "outputs": [
    {
     "name": "stdout",
     "output_type": "stream",
     "text": [
      "Train Length Stat\n",
      "count    7613.000000\n",
      "mean      101.037436\n",
      "std        33.781325\n",
      "min         7.000000\n",
      "25%        78.000000\n",
      "50%       107.000000\n",
      "75%       133.000000\n",
      "max       157.000000\n",
      "Name: length, dtype: float64\n",
      "\n",
      "Test Length Stat\n",
      "count    3263.000000\n",
      "mean      102.108183\n",
      "std        33.972158\n",
      "min         5.000000\n",
      "25%        78.000000\n",
      "50%       109.000000\n",
      "75%       134.000000\n",
      "max       151.000000\n",
      "Name: length, dtype: float64\n"
     ]
    }
   ],
   "source": [
    "# quick stats\n",
    "train_data[\"length\"] = train_data[\"text\"].apply(lambda x : len(x))\n",
    "test_data[\"length\"] = test_data[\"text\"].apply(lambda x : len(x))\n",
    "\n",
    "print(\"Train Length Stat\")\n",
    "print(train_data[\"length\"].describe())\n",
    "print()\n",
    "\n",
    "print(\"Test Length Stat\")\n",
    "print(test_data[\"length\"].describe())"
   ]
  },
  {
   "cell_type": "markdown",
   "id": "ec270334",
   "metadata": {
    "papermill": {
     "duration": 0.004371,
     "end_time": "2025-07-26T20:40:39.242610",
     "exception": false,
     "start_time": "2025-07-26T20:40:39.238239",
     "status": "completed"
    },
    "tags": []
   },
   "source": [
    "From this quick look we can see 10874 data rows for our train data and 10875 for our test data, from the head and tail we can see there are many missing data points in location and keyword columns."
   ]
  },
  {
   "cell_type": "markdown",
   "id": "933b4512",
   "metadata": {
    "papermill": {
     "duration": 0.004222,
     "end_time": "2025-07-26T20:40:39.251417",
     "exception": false,
     "start_time": "2025-07-26T20:40:39.247195",
     "status": "completed"
    },
    "tags": []
   },
   "source": [
    "### Graphs and Visualizations"
   ]
  },
  {
   "cell_type": "code",
   "execution_count": 6,
   "id": "e9b68350",
   "metadata": {
    "execution": {
     "iopub.execute_input": "2025-07-26T20:40:39.261231Z",
     "iopub.status.busy": "2025-07-26T20:40:39.261002Z",
     "iopub.status.idle": "2025-07-26T20:40:40.049655Z",
     "shell.execute_reply": "2025-07-26T20:40:40.048903Z"
    },
    "papermill": {
     "duration": 0.79567,
     "end_time": "2025-07-26T20:40:40.051535",
     "exception": false,
     "start_time": "2025-07-26T20:40:39.255865",
     "status": "completed"
    },
    "tags": []
   },
   "outputs": [
    {
     "data": {
      "image/png": "[encoded data removed]",
      "text/plain": [
       "<Figure size 1400x1000 with 4 Axes>"
      ]
     },
     "metadata": {},
     "output_type": "display_data"
    }
   ],
   "source": [
    "# HISTOGRAMS\n",
    "fig, axes = plt.subplots(2, 2, figsize=(14, 10))\n",
    "\n",
    "train_data['text_length'] = train_data['text'].str.len()\n",
    "test_data['text_length'] = test_data['text'].str.len()\n",
    "\n",
    "# Train data - Target distribution\n",
    "target_counts = train_data['target'].value_counts()\n",
    "axes[0, 0].bar(['Non-Disaster', 'Disaster'], [target_counts[0], target_counts[1]], \n",
    "              color=['skyblue', 'lightcoral'], alpha=0.7)\n",
    "axes[0, 0].set_title('Training Data - Target Distribution')\n",
    "axes[0, 0].set_ylabel('Count')\n",
    "\n",
    "# Train data - Text length histogram\n",
    "axes[0, 1].hist(train_data['text_length'], bins=30, alpha=0.7, color='green')\n",
    "axes[0, 1].set_title('Training Data - Text Length Distribution')\n",
    "axes[0, 1].set_xlabel('Character Length')\n",
    "axes[0, 1].set_ylabel('Frequency')\n",
    "\n",
    "# Test data - Text length histogram\n",
    "axes[1, 0].hist(test_data['text_length'], bins=30, alpha=0.7, color='orange')\n",
    "axes[1, 0].set_title('Test Data - Text Length Distribution')\n",
    "axes[1, 0].set_xlabel('Character Length')\n",
    "axes[1, 0].set_ylabel('Frequency')\n",
    "\n",
    "# Comparison of text lengths\n",
    "axes[1, 1].hist(train_data['text_length'], bins=30, alpha=0.5, label='Train', color='blue')\n",
    "axes[1, 1].hist(test_data['text_length'], bins=30, alpha=0.5, label='Test', color='red')\n",
    "axes[1, 1].set_title('Train vs Test - Text Length Comparison')\n",
    "axes[1, 1].set_xlabel('Character Length')\n",
    "axes[1, 1].set_ylabel('Frequency')\n",
    "axes[1, 1].legend()\n",
    "\n",
    "plt.tight_layout()\n",
    "plt.show()\n",
    "\n"
   ]
  },
  {
   "cell_type": "code",
   "execution_count": 7,
   "id": "e3dd9fe5",
   "metadata": {
    "execution": {
     "iopub.execute_input": "2025-07-26T20:40:40.064254Z",
     "iopub.status.busy": "2025-07-26T20:40:40.064010Z",
     "iopub.status.idle": "2025-07-26T20:40:40.576813Z",
     "shell.execute_reply": "2025-07-26T20:40:40.576199Z"
    },
    "papermill": {
     "duration": 0.52114,
     "end_time": "2025-07-26T20:40:40.578918",
     "exception": false,
     "start_time": "2025-07-26T20:40:40.057778",
     "status": "completed"
    },
    "tags": []
   },
   "outputs": [
    {
     "name": "stderr",
     "output_type": "stream",
     "text": [
      "/usr/local/lib/python3.11/dist-packages/matplotlib/colors.py:721: RuntimeWarning: invalid value encountered in less\n",
      "  xa[xa < 0] = -1\n"
     ]
    },
    {
     "data": {
      "image/png": "[encoded data removed]",
      "text/plain": [
       "<Figure size 800x600 with 2 Axes>"
      ]
     },
     "metadata": {},
     "output_type": "display_data"
    },
    {
     "name": "stdout",
     "output_type": "stream",
     "text": [
      "Dataset Overview:\n",
      "Training data shape: (7613, 7)\n",
      "Test data shape: (3263, 6)\n",
      "\n",
      "Target distribution in training data:\n",
      "Non-disaster tweets: 4342 (57.0%)\n",
      "Disaster tweets: 3271 (43.0%)\n",
      "\n",
      "Average text length:\n",
      "Training data: 101.0 characters\n",
      "Test data: 102.1 characters\n"
     ]
    }
   ],
   "source": [
    "# CORRELATION HEATMAP\n",
    "# Create basic features for correlation\n",
    "train_corr = train_data.copy()\n",
    "train_corr['has_keyword'] = (~train_data['keyword'].isnull()).astype(int)\n",
    "train_corr['has_location'] = (~train_data['location'].isnull()).astype(int)\n",
    "train_corr['word_count'] = train_data['text'].str.split().str.len()\n",
    "\n",
    "# Select only numeric columns for correlation\n",
    "numeric_cols = ['target', 'text_length', 'word_count', 'has_keyword', 'has_location']\n",
    "correlation_matrix = train_corr[numeric_cols].corr()\n",
    "\n",
    "# Create heatmap\n",
    "plt.figure(figsize=(8, 6))\n",
    "sns.heatmap(correlation_matrix, annot=True, cmap='coolwarm', center=0, \n",
    "            square=True, fmt='.3f')\n",
    "plt.title('Correlation Heatmap')\n",
    "plt.tight_layout()\n",
    "plt.show()\n",
    "\n",
    "# Print basic statistics\n",
    "print(\"Dataset Overview:\")\n",
    "print(f\"Training data shape: {train_data.shape}\")\n",
    "print(f\"Test data shape: {test_data.shape}\")\n",
    "print(f\"\\nTarget distribution in training data:\")\n",
    "print(f\"Non-disaster tweets: {target_counts[0]} ({target_counts[0]/len(train_data)*100:.1f}%)\")\n",
    "print(f\"Disaster tweets: {target_counts[1]} ({target_counts[1]/len(train_data)*100:.1f}%)\")\n",
    "print(f\"\\nAverage text length:\")\n",
    "print(f\"Training data: {train_data['text_length'].mean():.1f} characters\")\n",
    "print(f\"Test data: {test_data['text_length'].mean():.1f} characters\")"
   ]
  },
  {
   "cell_type": "markdown",
   "id": "fe12a97f",
   "metadata": {
    "papermill": {
     "duration": 0.00628,
     "end_time": "2025-07-26T20:40:40.592074",
     "exception": false,
     "start_time": "2025-07-26T20:40:40.585794",
     "status": "completed"
    },
    "tags": []
   },
   "source": [
    "Based on the EDA we can see the target distribution is in favor of non-disaster tweets, most tweets are between 100-145 words in length, and test and training sets have similar length distributions. My plan here is to first apply a model on the data, then perform some hypertuning to see if I can reach a reasonable success rate of classification, else I will perform data cleaning."
   ]
  },
  {
   "cell_type": "markdown",
   "id": "14785dfc",
   "metadata": {
    "papermill": {
     "duration": 0.006041,
     "end_time": "2025-07-26T20:40:40.604490",
     "exception": false,
     "start_time": "2025-07-26T20:40:40.598449",
     "status": "completed"
    },
    "tags": []
   },
   "source": [
    "### Preprossing Data"
   ]
  },
  {
   "cell_type": "code",
   "execution_count": 8,
   "id": "3e2dac08",
   "metadata": {
    "execution": {
     "iopub.execute_input": "2025-07-26T20:40:40.618141Z",
     "iopub.status.busy": "2025-07-26T20:40:40.617875Z",
     "iopub.status.idle": "2025-07-26T20:40:40.621808Z",
     "shell.execute_reply": "2025-07-26T20:40:40.621248Z"
    },
    "papermill": {
     "duration": 0.011973,
     "end_time": "2025-07-26T20:40:40.622837",
     "exception": false,
     "start_time": "2025-07-26T20:40:40.610864",
     "status": "completed"
    },
    "tags": []
   },
   "outputs": [],
   "source": [
    "BATCH_SIZE = 32\n",
    "NUM_TRAINING_EXAMPLES = train_data.shape[0]\n",
    "TRAIN_SPLIT = 0.8\n",
    "VAL_SPLIT = 0.2\n",
    "STEPS_PER_EPOCH = int(NUM_TRAINING_EXAMPLES)*TRAIN_SPLIT // BATCH_SIZE\n",
    "\n",
    "EPOCHS = 2\n",
    "AUTO = tf.data.experimental.AUTOTUNE"
   ]
  },
  {
   "cell_type": "markdown",
   "id": "65f9353d",
   "metadata": {
    "papermill": {
     "duration": 0.006122,
     "end_time": "2025-07-26T20:40:40.635201",
     "exception": false,
     "start_time": "2025-07-26T20:40:40.629079",
     "status": "completed"
    },
    "tags": []
   },
   "source": [
    "Next I'll split the data"
   ]
  },
  {
   "cell_type": "code",
   "execution_count": 9,
   "id": "2a47a6b9",
   "metadata": {
    "execution": {
     "iopub.execute_input": "2025-07-26T20:40:40.648489Z",
     "iopub.status.busy": "2025-07-26T20:40:40.648273Z",
     "iopub.status.idle": "2025-07-26T20:40:40.670145Z",
     "shell.execute_reply": "2025-07-26T20:40:40.669640Z"
    },
    "papermill": {
     "duration": 0.029847,
     "end_time": "2025-07-26T20:40:40.671282",
     "exception": false,
     "start_time": "2025-07-26T20:40:40.641435",
     "status": "completed"
    },
    "tags": []
   },
   "outputs": [],
   "source": [
    "from sklearn.model_selection import train_test_split\n",
    "\n",
    "X = train_data[\"text\"]\n",
    "y = train_data[\"target\"]\n",
    "\n",
    "X_train, X_val, y_train, y_val = train_test_split(X, y, test_size=VAL_SPLIT, random_state=42)\n",
    "\n",
    "X_test = test_data[\"text\"]"
   ]
  },
  {
   "cell_type": "markdown",
   "id": "3e1c9531",
   "metadata": {
    "papermill": {
     "duration": 0.0062,
     "end_time": "2025-07-26T20:40:40.684083",
     "exception": false,
     "start_time": "2025-07-26T20:40:40.677883",
     "status": "completed"
    },
    "tags": []
   },
   "source": [
    "### Model Architecture"
   ]
  },
  {
   "cell_type": "markdown",
   "id": "15a930d9",
   "metadata": {
    "papermill": {
     "duration": 0.006031,
     "end_time": "2025-07-26T20:40:40.696374",
     "exception": false,
     "start_time": "2025-07-26T20:40:40.690343",
     "status": "completed"
    },
    "tags": []
   },
   "source": [
    "### Set up DistilBERT model from Reference Tutorial on Kaggle\n",
    "\n",
    "Text inputs need to be transformed to numeric token ids and arranged in several Tensors before being input to BERT.\n",
    "\n",
    "The BertClassifier model can be configured with a preprocessor layer, in which case it will automatically apply preprocessing to raw inputs during fit(), predict(), and evaluate(). This is done by default when creating the model with from_preset().\n",
    "\n",
    "We will choose DistilBERT model.that learns a distilled (approximate) version of BERT, retaining 97% performance but using only half the number of parameters.\n",
    "\n",
    "It has 40% less parameters than bert-base-uncased, runs 60% faster while preserving over 95% of BERT’s performances as measured on the GLUE language understanding benchmark.\n",
    "\n",
    "Specifically, it doesn't have token-type embeddings, pooler and retains only half of the layers from Google's BERT."
   ]
  },
  {
   "cell_type": "code",
   "execution_count": 10,
   "id": "11065b2f",
   "metadata": {
    "execution": {
     "iopub.execute_input": "2025-07-26T20:40:40.709552Z",
     "iopub.status.busy": "2025-07-26T20:40:40.709338Z",
     "iopub.status.idle": "2025-07-26T20:40:49.368148Z",
     "shell.execute_reply": "2025-07-26T20:40:49.367545Z"
    },
    "papermill": {
     "duration": 8.66659,
     "end_time": "2025-07-26T20:40:49.369176",
     "exception": false,
     "start_time": "2025-07-26T20:40:40.702586",
     "status": "completed"
    },
    "tags": []
   },
   "outputs": [
    {
     "name": "stderr",
     "output_type": "stream",
     "text": [
      "I0000 00:00:1753562444.018069      19 gpu_device.cc:2022] Created device /job:localhost/replica:0/task:0/device:GPU:0 with 15513 MB memory:  -> device: 0, name: Tesla P100-PCIE-16GB, pci bus id: 0000:00:04.0, compute capability: 6.0\n"
     ]
    },
    {
     "data": {
      "text/html": [
       "<pre style=\"white-space:pre;overflow-x:auto;line-height:normal;font-family:Menlo,'DejaVu Sans Mono',consolas,'Courier New',monospace\"><span style=\"font-weight: bold\">Preprocessor: \"preprocessor_4_tweets\"</span>\n",
       "</pre>\n"
      ],
      "text/plain": [
       "\u001b[1mPreprocessor: \"preprocessor_4_tweets\"\u001b[0m\n"
      ]
     },
     "metadata": {},
     "output_type": "display_data"
    },
    {
     "data": {
      "text/html": [
       "<pre style=\"white-space:pre;overflow-x:auto;line-height:normal;font-family:Menlo,'DejaVu Sans Mono',consolas,'Courier New',monospace\">┏━━━━━━━━━━━━━━━━━━━━━━━━━━━━━━━━━━━━━━━━━━━━━━━━━━━━━━━━━━━━━━━┳━━━━━━━━━━━━━━━━━━━━━━━━━━━━━━━━━━━━━━━━━━┓\n",
       "┃<span style=\"font-weight: bold\"> Layer (type)                                                  </span>┃<span style=\"font-weight: bold\">                                   Config </span>┃\n",
       "┡━━━━━━━━━━━━━━━━━━━━━━━━━━━━━━━━━━━━━━━━━━━━━━━━━━━━━━━━━━━━━━━╇━━━━━━━━━━━━━━━━━━━━━━━━━━━━━━━━━━━━━━━━━━┩\n",
       "│ distil_bert_tokenizer (<span style=\"color: #0087ff; text-decoration-color: #0087ff\">DistilBertTokenizer</span>)                   │                       Vocab size: <span style=\"color: #00af00; text-decoration-color: #00af00\">30,522</span> │\n",
       "└───────────────────────────────────────────────────────────────┴──────────────────────────────────────────┘\n",
       "</pre>\n"
      ],
      "text/plain": [
       "┏━━━━━━━━━━━━━━━━━━━━━━━━━━━━━━━━━━━━━━━━━━━━━━━━━━━━━━━━━━━━━━━┳━━━━━━━━━━━━━━━━━━━━━━━━━━━━━━━━━━━━━━━━━━┓\n",
       "┃\u001b[1m \u001b[0m\u001b[1mLayer (type)                                                 \u001b[0m\u001b[1m \u001b[0m┃\u001b[1m \u001b[0m\u001b[1m                                  Config\u001b[0m\u001b[1m \u001b[0m┃\n",
       "┡━━━━━━━━━━━━━━━━━━━━━━━━━━━━━━━━━━━━━━━━━━━━━━━━━━━━━━━━━━━━━━━╇━━━━━━━━━━━━━━━━━━━━━━━━━━━━━━━━━━━━━━━━━━┩\n",
       "│ distil_bert_tokenizer (\u001b[38;5;33mDistilBertTokenizer\u001b[0m)                   │                       Vocab size: \u001b[38;5;34m30,522\u001b[0m │\n",
       "└───────────────────────────────────────────────────────────────┴──────────────────────────────────────────┘\n"
      ]
     },
     "metadata": {},
     "output_type": "display_data"
    },
    {
     "data": {
      "text/html": [
       "<pre style=\"white-space:pre;overflow-x:auto;line-height:normal;font-family:Menlo,'DejaVu Sans Mono',consolas,'Courier New',monospace\"><span style=\"font-weight: bold\">Model: \"distil_bert_text_classifier\"</span>\n",
       "</pre>\n"
      ],
      "text/plain": [
       "\u001b[1mModel: \"distil_bert_text_classifier\"\u001b[0m\n"
      ]
     },
     "metadata": {},
     "output_type": "display_data"
    },
    {
     "data": {
      "text/html": [
       "<pre style=\"white-space:pre;overflow-x:auto;line-height:normal;font-family:Menlo,'DejaVu Sans Mono',consolas,'Courier New',monospace\">┏━━━━━━━━━━━━━━━━━━━━━━━━━━━━━━━┳━━━━━━━━━━━━━━━━━━━━━━━━━━━┳━━━━━━━━━━━━━━━━━┳━━━━━━━━━━━━━━━━━━━━━━━━━━━━┓\n",
       "┃<span style=\"font-weight: bold\"> Layer (type)                  </span>┃<span style=\"font-weight: bold\"> Output Shape              </span>┃<span style=\"font-weight: bold\">         Param # </span>┃<span style=\"font-weight: bold\"> Connected to               </span>┃\n",
       "┡━━━━━━━━━━━━━━━━━━━━━━━━━━━━━━━╇━━━━━━━━━━━━━━━━━━━━━━━━━━━╇━━━━━━━━━━━━━━━━━╇━━━━━━━━━━━━━━━━━━━━━━━━━━━━┩\n",
       "│ padding_mask (<span style=\"color: #0087ff; text-decoration-color: #0087ff\">InputLayer</span>)     │ (<span style=\"color: #00d7ff; text-decoration-color: #00d7ff\">None</span>, <span style=\"color: #00d7ff; text-decoration-color: #00d7ff\">None</span>)              │               <span style=\"color: #00af00; text-decoration-color: #00af00\">0</span> │ -                          │\n",
       "├───────────────────────────────┼───────────────────────────┼─────────────────┼────────────────────────────┤\n",
       "│ token_ids (<span style=\"color: #0087ff; text-decoration-color: #0087ff\">InputLayer</span>)        │ (<span style=\"color: #00d7ff; text-decoration-color: #00d7ff\">None</span>, <span style=\"color: #00d7ff; text-decoration-color: #00d7ff\">None</span>)              │               <span style=\"color: #00af00; text-decoration-color: #00af00\">0</span> │ -                          │\n",
       "├───────────────────────────────┼───────────────────────────┼─────────────────┼────────────────────────────┤\n",
       "│ distil_bert_backbone          │ (<span style=\"color: #00d7ff; text-decoration-color: #00d7ff\">None</span>, <span style=\"color: #00d7ff; text-decoration-color: #00d7ff\">None</span>, <span style=\"color: #00af00; text-decoration-color: #00af00\">768</span>)         │      <span style=\"color: #00af00; text-decoration-color: #00af00\">66,362,880</span> │ padding_mask[<span style=\"color: #00af00; text-decoration-color: #00af00\">0</span>][<span style=\"color: #00af00; text-decoration-color: #00af00\">0</span>],        │\n",
       "│ (<span style=\"color: #0087ff; text-decoration-color: #0087ff\">DistilBertBackbone</span>)          │                           │                 │ token_ids[<span style=\"color: #00af00; text-decoration-color: #00af00\">0</span>][<span style=\"color: #00af00; text-decoration-color: #00af00\">0</span>]            │\n",
       "├───────────────────────────────┼───────────────────────────┼─────────────────┼────────────────────────────┤\n",
       "│ get_item (<span style=\"color: #0087ff; text-decoration-color: #0087ff\">GetItem</span>)            │ (<span style=\"color: #00d7ff; text-decoration-color: #00d7ff\">None</span>, <span style=\"color: #00af00; text-decoration-color: #00af00\">768</span>)               │               <span style=\"color: #00af00; text-decoration-color: #00af00\">0</span> │ distil_bert_backbone[<span style=\"color: #00af00; text-decoration-color: #00af00\">0</span>][<span style=\"color: #00af00; text-decoration-color: #00af00\">0</span>] │\n",
       "├───────────────────────────────┼───────────────────────────┼─────────────────┼────────────────────────────┤\n",
       "│ pooled_dense (<span style=\"color: #0087ff; text-decoration-color: #0087ff\">Dense</span>)          │ (<span style=\"color: #00d7ff; text-decoration-color: #00d7ff\">None</span>, <span style=\"color: #00af00; text-decoration-color: #00af00\">768</span>)               │         <span style=\"color: #00af00; text-decoration-color: #00af00\">590,592</span> │ get_item[<span style=\"color: #00af00; text-decoration-color: #00af00\">0</span>][<span style=\"color: #00af00; text-decoration-color: #00af00\">0</span>]             │\n",
       "├───────────────────────────────┼───────────────────────────┼─────────────────┼────────────────────────────┤\n",
       "│ output_dropout (<span style=\"color: #0087ff; text-decoration-color: #0087ff\">Dropout</span>)      │ (<span style=\"color: #00d7ff; text-decoration-color: #00d7ff\">None</span>, <span style=\"color: #00af00; text-decoration-color: #00af00\">768</span>)               │               <span style=\"color: #00af00; text-decoration-color: #00af00\">0</span> │ pooled_dense[<span style=\"color: #00af00; text-decoration-color: #00af00\">0</span>][<span style=\"color: #00af00; text-decoration-color: #00af00\">0</span>]         │\n",
       "├───────────────────────────────┼───────────────────────────┼─────────────────┼────────────────────────────┤\n",
       "│ logits (<span style=\"color: #0087ff; text-decoration-color: #0087ff\">Dense</span>)                │ (<span style=\"color: #00d7ff; text-decoration-color: #00d7ff\">None</span>, <span style=\"color: #00af00; text-decoration-color: #00af00\">2</span>)                 │           <span style=\"color: #00af00; text-decoration-color: #00af00\">1,538</span> │ output_dropout[<span style=\"color: #00af00; text-decoration-color: #00af00\">0</span>][<span style=\"color: #00af00; text-decoration-color: #00af00\">0</span>]       │\n",
       "└───────────────────────────────┴───────────────────────────┴─────────────────┴────────────────────────────┘\n",
       "</pre>\n"
      ],
      "text/plain": [
       "┏━━━━━━━━━━━━━━━━━━━━━━━━━━━━━━━┳━━━━━━━━━━━━━━━━━━━━━━━━━━━┳━━━━━━━━━━━━━━━━━┳━━━━━━━━━━━━━━━━━━━━━━━━━━━━┓\n",
       "┃\u001b[1m \u001b[0m\u001b[1mLayer (type)                 \u001b[0m\u001b[1m \u001b[0m┃\u001b[1m \u001b[0m\u001b[1mOutput Shape             \u001b[0m\u001b[1m \u001b[0m┃\u001b[1m \u001b[0m\u001b[1m        Param #\u001b[0m\u001b[1m \u001b[0m┃\u001b[1m \u001b[0m\u001b[1mConnected to              \u001b[0m\u001b[1m \u001b[0m┃\n",
       "┡━━━━━━━━━━━━━━━━━━━━━━━━━━━━━━━╇━━━━━━━━━━━━━━━━━━━━━━━━━━━╇━━━━━━━━━━━━━━━━━╇━━━━━━━━━━━━━━━━━━━━━━━━━━━━┩\n",
       "│ padding_mask (\u001b[38;5;33mInputLayer\u001b[0m)     │ (\u001b[38;5;45mNone\u001b[0m, \u001b[38;5;45mNone\u001b[0m)              │               \u001b[38;5;34m0\u001b[0m │ -                          │\n",
       "├───────────────────────────────┼───────────────────────────┼─────────────────┼────────────────────────────┤\n",
       "│ token_ids (\u001b[38;5;33mInputLayer\u001b[0m)        │ (\u001b[38;5;45mNone\u001b[0m, \u001b[38;5;45mNone\u001b[0m)              │               \u001b[38;5;34m0\u001b[0m │ -                          │\n",
       "├───────────────────────────────┼───────────────────────────┼─────────────────┼────────────────────────────┤\n",
       "│ distil_bert_backbone          │ (\u001b[38;5;45mNone\u001b[0m, \u001b[38;5;45mNone\u001b[0m, \u001b[38;5;34m768\u001b[0m)         │      \u001b[38;5;34m66,362,880\u001b[0m │ padding_mask[\u001b[38;5;34m0\u001b[0m][\u001b[38;5;34m0\u001b[0m],        │\n",
       "│ (\u001b[38;5;33mDistilBertBackbone\u001b[0m)          │                           │                 │ token_ids[\u001b[38;5;34m0\u001b[0m][\u001b[38;5;34m0\u001b[0m]            │\n",
       "├───────────────────────────────┼───────────────────────────┼─────────────────┼────────────────────────────┤\n",
       "│ get_item (\u001b[38;5;33mGetItem\u001b[0m)            │ (\u001b[38;5;45mNone\u001b[0m, \u001b[38;5;34m768\u001b[0m)               │               \u001b[38;5;34m0\u001b[0m │ distil_bert_backbone[\u001b[38;5;34m0\u001b[0m][\u001b[38;5;34m0\u001b[0m] │\n",
       "├───────────────────────────────┼───────────────────────────┼─────────────────┼────────────────────────────┤\n",
       "│ pooled_dense (\u001b[38;5;33mDense\u001b[0m)          │ (\u001b[38;5;45mNone\u001b[0m, \u001b[38;5;34m768\u001b[0m)               │         \u001b[38;5;34m590,592\u001b[0m │ get_item[\u001b[38;5;34m0\u001b[0m][\u001b[38;5;34m0\u001b[0m]             │\n",
       "├───────────────────────────────┼───────────────────────────┼─────────────────┼────────────────────────────┤\n",
       "│ output_dropout (\u001b[38;5;33mDropout\u001b[0m)      │ (\u001b[38;5;45mNone\u001b[0m, \u001b[38;5;34m768\u001b[0m)               │               \u001b[38;5;34m0\u001b[0m │ pooled_dense[\u001b[38;5;34m0\u001b[0m][\u001b[38;5;34m0\u001b[0m]         │\n",
       "├───────────────────────────────┼───────────────────────────┼─────────────────┼────────────────────────────┤\n",
       "│ logits (\u001b[38;5;33mDense\u001b[0m)                │ (\u001b[38;5;45mNone\u001b[0m, \u001b[38;5;34m2\u001b[0m)                 │           \u001b[38;5;34m1,538\u001b[0m │ output_dropout[\u001b[38;5;34m0\u001b[0m][\u001b[38;5;34m0\u001b[0m]       │\n",
       "└───────────────────────────────┴───────────────────────────┴─────────────────┴────────────────────────────┘\n"
      ]
     },
     "metadata": {},
     "output_type": "display_data"
    },
    {
     "data": {
      "text/html": [
       "<pre style=\"white-space:pre;overflow-x:auto;line-height:normal;font-family:Menlo,'DejaVu Sans Mono',consolas,'Courier New',monospace\"><span style=\"font-weight: bold\"> Total params: </span><span style=\"color: #00af00; text-decoration-color: #00af00\">66,955,010</span> (255.41 MB)\n",
       "</pre>\n"
      ],
      "text/plain": [
       "\u001b[1m Total params: \u001b[0m\u001b[38;5;34m66,955,010\u001b[0m (255.41 MB)\n"
      ]
     },
     "metadata": {},
     "output_type": "display_data"
    },
    {
     "data": {
      "text/html": [
       "<pre style=\"white-space:pre;overflow-x:auto;line-height:normal;font-family:Menlo,'DejaVu Sans Mono',consolas,'Courier New',monospace\"><span style=\"font-weight: bold\"> Trainable params: </span><span style=\"color: #00af00; text-decoration-color: #00af00\">66,955,010</span> (255.41 MB)\n",
       "</pre>\n"
      ],
      "text/plain": [
       "\u001b[1m Trainable params: \u001b[0m\u001b[38;5;34m66,955,010\u001b[0m (255.41 MB)\n"
      ]
     },
     "metadata": {},
     "output_type": "display_data"
    },
    {
     "data": {
      "text/html": [
       "<pre style=\"white-space:pre;overflow-x:auto;line-height:normal;font-family:Menlo,'DejaVu Sans Mono',consolas,'Courier New',monospace\"><span style=\"font-weight: bold\"> Non-trainable params: </span><span style=\"color: #00af00; text-decoration-color: #00af00\">0</span> (0.00 B)\n",
       "</pre>\n"
      ],
      "text/plain": [
       "\u001b[1m Non-trainable params: \u001b[0m\u001b[38;5;34m0\u001b[0m (0.00 B)\n"
      ]
     },
     "metadata": {},
     "output_type": "display_data"
    }
   ],
   "source": [
    "# Load a DistilBERT model.\n",
    "preset= \"distil_bert_base_en_uncased\"\n",
    "\n",
    "# Use a shorter sequence length.\n",
    "preprocessor = keras_nlp.models.DistilBertPreprocessor.from_preset(preset,\n",
    "                                                                   sequence_length=160,\n",
    "                                                                   name=\"preprocessor_4_tweets\"\n",
    "                                                                  )\n",
    "\n",
    "# Pretrained classifier.\n",
    "classifier = keras_nlp.models.DistilBertClassifier.from_preset(preset,\n",
    "                                                               preprocessor = preprocessor, \n",
    "                                                               num_classes=2)\n",
    "\n",
    "classifier.summary()"
   ]
  },
  {
   "cell_type": "markdown",
   "id": "09b42b56",
   "metadata": {
    "papermill": {
     "duration": 0.006732,
     "end_time": "2025-07-26T20:40:49.383494",
     "exception": false,
     "start_time": "2025-07-26T20:40:49.376762",
     "status": "completed"
    },
    "tags": []
   },
   "source": [
    "### Results and Analysis"
   ]
  },
  {
   "cell_type": "markdown",
   "id": "8fe371e2",
   "metadata": {
    "papermill": {
     "duration": 0.006713,
     "end_time": "2025-07-26T20:40:49.397153",
     "exception": false,
     "start_time": "2025-07-26T20:40:49.390440",
     "status": "completed"
    },
    "tags": []
   },
   "source": [
    "From the DistilBERT Model we can see with 66,955,010 parameters (all of which are trainable) we should have extensive Natural language understanding. With 66,362,880 of our 66,955,010 parameters we can see high fidelity in determining disaster tweets. We have extreemly high overfitting risk here as we have 67 million parameters and only about 7600 training samples, learning rate will likely be an important hyperparameter to tune."
   ]
  },
  {
   "cell_type": "markdown",
   "id": "dad29c8a",
   "metadata": {
    "papermill": {
     "duration": 0.006614,
     "end_time": "2025-07-26T20:40:49.410543",
     "exception": false,
     "start_time": "2025-07-26T20:40:49.403929",
     "status": "completed"
    },
    "tags": []
   },
   "source": [
    "### Hypertuning"
   ]
  },
  {
   "cell_type": "markdown",
   "id": "7e1106d0",
   "metadata": {
    "papermill": {
     "duration": 0.006556,
     "end_time": "2025-07-26T20:40:49.423930",
     "exception": false,
     "start_time": "2025-07-26T20:40:49.417374",
     "status": "completed"
    },
    "tags": []
   },
   "source": [
    "Here I attempt to tackle the overfitting issue by adjusting learning rate with my own BERT model."
   ]
  },
  {
   "cell_type": "code",
   "execution_count": 11,
   "id": "b9a1fd03",
   "metadata": {
    "execution": {
     "iopub.execute_input": "2025-07-26T20:40:49.438538Z",
     "iopub.status.busy": "2025-07-26T20:40:49.438275Z",
     "iopub.status.idle": "2025-07-26T20:43:33.906613Z",
     "shell.execute_reply": "2025-07-26T20:43:33.906025Z"
    },
    "papermill": {
     "duration": 164.477062,
     "end_time": "2025-07-26T20:43:33.907797",
     "exception": false,
     "start_time": "2025-07-26T20:40:49.430735",
     "status": "completed"
    },
    "tags": []
   },
   "outputs": [
    {
     "name": "stdout",
     "output_type": "stream",
     "text": [
      "Epoch 1/2\n"
     ]
    },
    {
     "name": "stderr",
     "output_type": "stream",
     "text": [
      "WARNING: All log messages before absl::InitializeLog() is called are written to STDERR\n",
      "I0000 00:00:1753562476.065095      60 service.cc:148] XLA service 0x7ae994014410 initialized for platform CUDA (this does not guarantee that XLA will be used). Devices:\n",
      "I0000 00:00:1753562476.065695      60 service.cc:156]   StreamExecutor device (0): Tesla P100-PCIE-16GB, Compute Capability 6.0\n",
      "I0000 00:00:1753562478.441043      60 cuda_dnn.cc:529] Loaded cuDNN version 90300\n",
      "I0000 00:00:1753562492.381970      60 device_compiler.h:188] Compiled cluster using XLA!  This line is logged at most once for the lifetime of the process.\n"
     ]
    },
    {
     "name": "stdout",
     "output_type": "stream",
     "text": [
      "\u001b[1m191/191\u001b[0m \u001b[32m━━━━━━━━━━━━━━━━━━━━\u001b[0m\u001b[37m\u001b[0m \u001b[1m112s\u001b[0m 368ms/step - accuracy: 0.7102 - loss: 0.5659 - val_accuracy: 0.8444 - val_loss: 0.3948\n",
      "Epoch 2/2\n",
      "\u001b[1m191/191\u001b[0m \u001b[32m━━━━━━━━━━━━━━━━━━━━\u001b[0m\u001b[37m\u001b[0m \u001b[1m51s\u001b[0m 267ms/step - accuracy: 0.8425 - loss: 0.3732 - val_accuracy: 0.8457 - val_loss: 0.3821\n"
     ]
    }
   ],
   "source": [
    "# Compile\n",
    "from tensorflow import keras  # instead of `import keras`\n",
    "\n",
    "classifier.compile(\n",
    "    loss=keras.losses.SparseCategoricalCrossentropy(from_logits=True),\n",
    "    optimizer=keras.optimizers.Adam(1e-5),\n",
    "    metrics=[\"accuracy\"]\n",
    ")\n",
    "\n",
    "# Fit\n",
    "history = classifier.fit(x=X_train,\n",
    "                         y=y_train,\n",
    "                         batch_size=BATCH_SIZE,\n",
    "                         epochs=EPOCHS, \n",
    "                         validation_data=(X_val, y_val)\n",
    "                        )"
   ]
  },
  {
   "cell_type": "code",
   "execution_count": 12,
   "id": "2df6d41f",
   "metadata": {
    "execution": {
     "iopub.execute_input": "2025-07-26T20:43:33.955126Z",
     "iopub.status.busy": "2025-07-26T20:43:33.954833Z",
     "iopub.status.idle": "2025-07-26T20:43:33.959452Z",
     "shell.execute_reply": "2025-07-26T20:43:33.958912Z"
    },
    "papermill": {
     "duration": 0.029268,
     "end_time": "2025-07-26T20:43:33.960497",
     "exception": false,
     "start_time": "2025-07-26T20:43:33.931229",
     "status": "completed"
    },
    "tags": []
   },
   "outputs": [],
   "source": [
    "def displayConfusionMatrix(y_true, y_pred, dataset):\n",
    "    disp = ConfusionMatrixDisplay.from_predictions(\n",
    "        y_true,\n",
    "        np.argmax(y_pred, axis=1),\n",
    "        display_labels=[\"Not Disaster\",\"Disaster\"],\n",
    "        cmap=plt.cm.Blues\n",
    "    )\n",
    "\n",
    "    tn, fp, fn, tp = confusion_matrix(y_true, np.argmax(y_pred, axis=1)).ravel()\n",
    "    f1_score = tp / (tp+((fn+fp)/2))\n",
    "\n",
    "    disp.ax_.set_title(\"Confusion Matrix on \" + dataset + \" Dataset -- F1 Score: \" + str(f1_score.round(2)))"
   ]
  },
  {
   "cell_type": "code",
   "execution_count": 13,
   "id": "7ad149c6",
   "metadata": {
    "execution": {
     "iopub.execute_input": "2025-07-26T20:43:34.006116Z",
     "iopub.status.busy": "2025-07-26T20:43:34.005833Z",
     "iopub.status.idle": "2025-07-26T20:43:52.915104Z",
     "shell.execute_reply": "2025-07-26T20:43:52.914372Z"
    },
    "papermill": {
     "duration": 18.933376,
     "end_time": "2025-07-26T20:43:52.916377",
     "exception": false,
     "start_time": "2025-07-26T20:43:33.983001",
     "status": "completed"
    },
    "tags": []
   },
   "outputs": [
    {
     "name": "stdout",
     "output_type": "stream",
     "text": [
      "\u001b[1m191/191\u001b[0m \u001b[32m━━━━━━━━━━━━━━━━━━━━\u001b[0m\u001b[37m\u001b[0m \u001b[1m17s\u001b[0m 79ms/step\n"
     ]
    },
    {
     "data": {
      "image/png": "[encoded data removed]",
      "text/plain": [
       "<Figure size 640x480 with 2 Axes>"
      ]
     },
     "metadata": {},
     "output_type": "display_data"
    }
   ],
   "source": [
    "y_pred_train = classifier.predict(X_train)\n",
    "\n",
    "displayConfusionMatrix(y_train, y_pred_train, \"Training\")"
   ]
  },
  {
   "cell_type": "code",
   "execution_count": 14,
   "id": "63f68a96",
   "metadata": {
    "execution": {
     "iopub.execute_input": "2025-07-26T20:43:52.979342Z",
     "iopub.status.busy": "2025-07-26T20:43:52.978772Z",
     "iopub.status.idle": "2025-07-26T20:43:59.699794Z",
     "shell.execute_reply": "2025-07-26T20:43:59.699114Z"
    },
    "papermill": {
     "duration": 6.752964,
     "end_time": "2025-07-26T20:43:59.700940",
     "exception": false,
     "start_time": "2025-07-26T20:43:52.947976",
     "status": "completed"
    },
    "tags": []
   },
   "outputs": [
    {
     "name": "stdout",
     "output_type": "stream",
     "text": [
      "\u001b[1m48/48\u001b[0m \u001b[32m━━━━━━━━━━━━━━━━━━━━\u001b[0m\u001b[37m\u001b[0m \u001b[1m5s\u001b[0m 89ms/step\n"
     ]
    },
    {
     "data": {
      "image/png": "[encoded data removed]",
      "text/plain": [
       "<Figure size 640x480 with 2 Axes>"
      ]
     },
     "metadata": {},
     "output_type": "display_data"
    }
   ],
   "source": [
    "y_pred_val = classifier.predict(X_val)\n",
    "\n",
    "displayConfusionMatrix(y_val, y_pred_val, \"Validation\")"
   ]
  },
  {
   "cell_type": "markdown",
   "id": "00136a96",
   "metadata": {
    "papermill": {
     "duration": 0.032235,
     "end_time": "2025-07-26T20:43:59.767060",
     "exception": false,
     "start_time": "2025-07-26T20:43:59.734825",
     "status": "completed"
    },
    "tags": []
   },
   "source": [
    "### Conclusion"
   ]
  },
  {
   "cell_type": "markdown",
   "id": "f69d6e39",
   "metadata": {
    "papermill": {
     "duration": 0.03179,
     "end_time": "2025-07-26T20:43:59.831175",
     "exception": false,
     "start_time": "2025-07-26T20:43:59.799385",
     "status": "completed"
    },
    "tags": []
   },
   "source": [
    "Discuss and interpret results as well as learnings and takeaways. What did and did not help improve the performance of your models? What improvements could you try in the future?"
   ]
  },
  {
   "cell_type": "markdown",
   "id": "e80e9f61",
   "metadata": {
    "papermill": {
     "duration": 0.032308,
     "end_time": "2025-07-26T20:43:59.895677",
     "exception": false,
     "start_time": "2025-07-26T20:43:59.863369",
     "status": "completed"
    },
    "tags": []
   },
   "source": [
    "From the confusion matrixes on the custom BERT model, I was expecting something close to 80% accuracy against Kaggle data, but after submitting I achieved close to 83%. I did have to limit my model building here as the time to train was simply very long, but we get some explosure to using NLP models in the kaggle project. In the future, it would be interesting to try different learning rates and different epoch with muliple NLP models including ones other than BERT. With the differences in learning rate, performance increased from about 61% to 83% accuracy."
   ]
  },
  {
   "cell_type": "markdown",
   "id": "b2b12597",
   "metadata": {
    "papermill": {
     "duration": 0.031864,
     "end_time": "2025-07-26T20:43:59.960032",
     "exception": false,
     "start_time": "2025-07-26T20:43:59.928168",
     "status": "completed"
    },
    "tags": []
   },
   "source": [
    "### Submission File\n",
    "\n",
    "As stated in the problem Decription we need to make a submission file to compare against the correct values."
   ]
  },
  {
   "cell_type": "code",
   "execution_count": 15,
   "id": "b2420e34",
   "metadata": {
    "execution": {
     "iopub.execute_input": "2025-07-26T20:44:00.027082Z",
     "iopub.status.busy": "2025-07-26T20:44:00.026759Z",
     "iopub.status.idle": "2025-07-26T20:44:10.065072Z",
     "shell.execute_reply": "2025-07-26T20:44:10.064447Z"
    },
    "papermill": {
     "duration": 10.073529,
     "end_time": "2025-07-26T20:44:10.066415",
     "exception": false,
     "start_time": "2025-07-26T20:43:59.992886",
     "status": "completed"
    },
    "tags": []
   },
   "outputs": [
    {
     "name": "stdout",
     "output_type": "stream",
     "text": [
      "\u001b[1m102/102\u001b[0m \u001b[32m━━━━━━━━━━━━━━━━━━━━\u001b[0m\u001b[37m\u001b[0m \u001b[1m9s\u001b[0m 82ms/step\n"
     ]
    }
   ],
   "source": [
    "sample_submission = pd.read_csv(\"/kaggle/input/nlp-getting-started/sample_submission.csv\")\n",
    "sample_submission.head()\n",
    "sample_submission[\"target\"] = np.argmax(classifier.predict(X_test), axis=1)\n",
    "sample_submission.describe()\n",
    "sample_submission.to_csv(\"submission.csv\", index=False)"
   ]
  },
  {
   "cell_type": "markdown",
   "id": "71793153",
   "metadata": {
    "papermill": {
     "duration": 0.036157,
     "end_time": "2025-07-26T20:44:10.140341",
     "exception": false,
     "start_time": "2025-07-26T20:44:10.104184",
     "status": "completed"
    },
    "tags": []
   },
   "source": [
    "### Citation"
   ]
  },
  {
   "cell_type": "markdown",
   "id": "d9577072",
   "metadata": {
    "papermill": {
     "duration": 0.035817,
     "end_time": "2025-07-26T20:44:10.212246",
     "exception": false,
     "start_time": "2025-07-26T20:44:10.176429",
     "status": "completed"
    },
    "tags": []
   },
   "source": [
    "Addison Howard, devrishi, Phil Culliton, and Yufeng Guo. Natural Language Processing with Disaster Tweets. https://kaggle.com/competitions/nlp-getting-started, 2019. Kaggle.\n",
    "\n",
    "https://www.kaggle.com/code/alexia/kerasnlp-starter-notebook-disaster-tweets #Reference tutorial"
   ]
  }
 ],
 "metadata": {
  "kaggle": {
   "accelerator": "none",
   "dataSources": [
    {
     "databundleVersionId": 869809,
     "sourceId": 17777,
     "sourceType": "competition"
    },
    {
     "databundleVersionId": 7429247,
     "modelInstanceId": 4689,
     "sourceId": 6068,
     "sourceType": "modelInstanceVersion"
    }
   ],
   "dockerImageVersionId": 31089,
   "isGpuEnabled": false,
   "isInternetEnabled": true,
   "language": "python",
   "sourceType": "notebook"
  },
  "kernelspec": {
   "display_name": "Python 3",
   "language": "python",
   "name": "python3"
  },
  "language_info": {
   "codemirror_mode": {
    "name": "ipython",
    "version": 3
   },
   "file_extension": ".py",
   "mimetype": "text/x-python",
   "name": "python",
   "nbconvert_exporter": "python",
   "pygments_lexer": "ipython3",
   "version": "3.11.13"
  },
  "papermill": {
   "default_parameters": {},
   "duration": 236.40022,
   "end_time": "2025-07-26T20:44:13.996361",
   "environment_variables": {},
   "exception": null,
   "input_path": "__notebook__.ipynb",
   "output_path": "__notebook__.ipynb",
   "parameters": {},
   "start_time": "2025-07-26T20:40:17.596141",
   "version": "2.6.0"
  }
 },
 "nbformat": 4,
 "nbformat_minor": 5
}
